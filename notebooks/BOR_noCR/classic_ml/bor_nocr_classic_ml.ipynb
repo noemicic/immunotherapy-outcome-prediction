{
 "cells": [
  {
   "cell_type": "markdown",
   "id": "2d6d255d",
   "metadata": {},
   "source": [
    "# BOR_noCR: classical ML models"
   ]
  },
  {
   "cell_type": "code",
   "execution_count": null,
   "id": "a545ce47",
   "metadata": {},
   "outputs": [],
   "source": [
    "#Importing necessary libraries\n",
    "import pandas as pd\n",
    "import numpy as np\n",
    "import matplotlib.pyplot as plt\n",
    "import tensorflow as tf\n",
    "#Importing libaries for data preprocessing and fine-tuning\n",
    "from sklearn.model_selection import train_test_split \n",
    "from sklearn.preprocessing import StandardScaler, LabelEncoder\n",
    "from sklearn.model_selection import GridSearchCV\n",
    "#Importing libraries for building models\n",
    "from sklearn.linear_model import LogisticRegression\n",
    "from sklearn.ensemble import RandomForestClassifier\n",
    "from sklearn.ensemble import GradientBoostingClassifier\n",
    "import xgboost as xgb\n",
    "from lightgbm import LGBMClassifier\n",
    "from sklearn.svm import SVC\n",
    "from sklearn.neighbors import KNeighborsClassifier\n",
    "from sklearn.linear_model import RidgeClassifier\n",
    "from sklearn.naive_bayes import GaussianNB\n",
    "from sklearn.tree import DecisionTreeClassifier\n",
    "#Importing libraries to evaluate the models\n",
    "from sklearn.metrics import (accuracy_score, precision_score, recall_score, f1_score,\n",
    "                             roc_auc_score, average_precision_score, classification_report,\n",
    "                             confusion_matrix)\n",
    "#Importing for interpretability\n",
    "import shap\n",
    "\n",
    "# for reproducibility, the value is set for conventional reasons\n",
    "SEED = 42\n",
    "tf.keras.utils.set_random_seed(SEED)"
   ]
  },
  {
   "cell_type": "code",
   "execution_count": null,
   "id": "5938b688",
   "metadata": {},
   "outputs": [],
   "source": [
    "# load the data\n",
    "data = pd.read_csv('dataset_d.csv', encoding='latin-1', sep=',') # request the dataset to the author\n",
    "#data.head()"
   ]
  },
  {
   "cell_type": "code",
   "execution_count": null,
   "id": "c877aace",
   "metadata": {},
   "outputs": [],
   "source": [
    "# target column : \"best_response_1l\" multi-classification problem (eliminating the CR class)\n",
    "# relevant columns for the model\n",
    "relevant_columns = [ 'age', 'sex', 'smoking', 'ps_at_diagnosis_ad', 'n#_mets_sites', 'lung_only_m1', 'pleural', 'pericard','lymph_nodes_only_m1','soft_tissue',\n",
    "    'leptomingeal','skin','peritoneal','renal','pancreas', 'brain', 'liver', 'bone', 'adrenal', 'histology', 'hbbaselineio','leucotbaselineio',\n",
    "    'neut_abs...143','linfo_abs...144','baso_abs...145', 'mono_abs...147', 'plaqtbaselineio', 'best_response_1l']\n",
    "\n",
    "df= data.copy()\n",
    "df = df[relevant_columns]\n",
    "df.shape"
   ]
  },
  {
   "cell_type": "code",
   "execution_count": null,
   "id": "4efa4c11",
   "metadata": {},
   "outputs": [],
   "source": [
    "df = df[df[\"best_response_1l\"] != \"CR\"]\n",
    "df.shape"
   ]
  },
  {
   "cell_type": "code",
   "execution_count": null,
   "id": "ad154718",
   "metadata": {},
   "outputs": [],
   "source": [
    "df = df.dropna(axis=0)\n",
    "df.shape"
   ]
  },
  {
   "cell_type": "code",
   "execution_count": null,
   "id": "3f12c342",
   "metadata": {},
   "outputs": [],
   "source": [
    "#to randomize the data\n",
    "df = df.sample(frac=1, random_state=SEED)\n",
    "\n",
    "var_int = ['ps_at_diagnosis_ad', 'n#_mets_sites', 'lung_only_m1', 'pleural', 'pericard', 'lymph_nodes_only_m1', 'soft_tissue',\n",
    "           'leptomingeal','skin','peritoneal','renal','pancreas', 'brain', 'liver', 'bone', 'adrenal']\n",
    "for i in var_int:\n",
    "    df[i] = df[i].astype(int)\n",
    "    \n",
    "df['sex'] = df['sex'].str.lower()\n",
    "\n",
    "sex_dummies = pd.get_dummies(df['sex'], prefix='sex', drop_first=True)\n",
    "\n",
    "other_dummies = pd.get_dummies(df[['histology', 'smoking']])\n",
    "\n",
    "df_encoded = pd.concat([df.drop(columns=['sex', 'histology', 'smoking']),\n",
    "                        sex_dummies, other_dummies], axis=1)\n",
    "\n",
    "cols_to_convert = ['histology_adenocarcinoma', 'histology_nsclc', 'histology_squamous','histology_adenosquamous', 'sex_male', \n",
    "                   'smoking_current', 'smoking_former', 'smoking_non-smoker']\n",
    "\n",
    "df_encoded[cols_to_convert] = df_encoded[cols_to_convert].astype(int)"
   ]
  },
  {
   "cell_type": "code",
   "execution_count": null,
   "id": "5397e8b0",
   "metadata": {},
   "outputs": [],
   "source": [
    "# split the data into features and target\n",
    "X = df_encoded[df_encoded.columns.difference(['best_response_1l'])] \n",
    "y = df_encoded['best_response_1l']\n",
    "\n",
    "le = LabelEncoder()\n",
    "y_encoded = le.fit_transform(y) "
   ]
  },
  {
   "cell_type": "code",
   "execution_count": null,
   "id": "b36f728e",
   "metadata": {},
   "outputs": [],
   "source": [
    "X_train_val, X_test, y_train_val, y_test = train_test_split(X, y_encoded, test_size=0.2, random_state=42)\n",
    "X_train, X_val, y_train, y_val = train_test_split(X_train_val, y_train_val, test_size=0.2, random_state=42)\n",
    "\n",
    "X_train.shape, X_val.shape, X_test.shape, X_train_val.shape"
   ]
  },
  {
   "cell_type": "code",
   "execution_count": null,
   "id": "42c30db6",
   "metadata": {},
   "outputs": [],
   "source": [
    "binary_features = ['lung_only_m1', 'pleural', 'pericard', 'lymph_nodes_only_m1', 'soft_tissue', 'leptomingeal','skin','peritoneal','renal',\n",
    "                   'pancreas', 'brain', 'liver', 'bone', 'adrenal','histology_adenocarcinoma', 'histology_nsclc', \n",
    "                   'histology_squamous', 'sex_male','smoking_current', 'smoking_former', 'smoking_non-smoker', 'histology_adenosquamous',]\n",
    "numeric_features = ['neut_abs...143','linfo_abs...144', 'plaqtbaselineio', 'age', 'ps_at_diagnosis_ad', 'n#_mets_sites', 'leucotbaselineio',\n",
    "                    'hbbaselineio','baso_abs...145', 'mono_abs...147'] #'duration_l1', 'time_to_l1_start'\n",
    "\n",
    "\n",
    "X_train_scaled = X_train.copy()\n",
    "X_val_scaled = X_val.copy() \n",
    "X_test_scaled = X_test.copy()\n",
    "X_train_val_scaled = X_train_val.copy()\n",
    "\n",
    "scaler = StandardScaler()\n",
    "\n",
    "X_train_val_scaled[numeric_features] = scaler.fit_transform(X_train_val_scaled[numeric_features])\n",
    "X_train_scaled[numeric_features] = scaler.fit_transform(X_train_scaled[numeric_features])\n",
    "X_val_scaled[numeric_features] = scaler.fit_transform(X_val_scaled[numeric_features])\n",
    "X_test_scaled[numeric_features] = scaler.fit_transform(X_test_scaled[numeric_features])"
   ]
  },
  {
   "cell_type": "code",
   "execution_count": null,
   "id": "86601972",
   "metadata": {},
   "outputs": [],
   "source": [
    "def evaluate_model(y_true, y_pred, y_proba, class_names=le.classes_):\n",
    "    \"\"\"\n",
    "    y_true: true labels \n",
    "    y_pred: predicted labels\n",
    "    y_proba: predicted probabilities (array [n_samples, n_classes])\n",
    "    class_names: le.classes\n",
    "    \"\"\"\n",
    "\n",
    "    # Main metrics\n",
    "    accuracy = accuracy_score(y_true, y_pred)\n",
    "    precision = precision_score(y_true, y_pred, average='weighted', zero_division=0)\n",
    "    recall = recall_score(y_true, y_pred, average='weighted', zero_division=0)\n",
    "    f1 = f1_score(y_true, y_pred, average='weighted', zero_division=0)\n",
    "    \n",
    "    print(f\"Accuracy: {accuracy:.4f}\")\n",
    "    print(f\"Precision (weighted): {precision:.4f}\")\n",
    "    print(f\"Recall (weighted): {recall:.4f}\")\n",
    "    print(f\"F1-score (weighted): {f1:.4f}\\n\")\n",
    "    \n",
    "    print(\"Classification Report:\")\n",
    "    print(classification_report(y_true, y_pred, target_names=class_names))\n",
    "\n",
    "    # Confusion matrix\n",
    "    cm = confusion_matrix(y_true, y_pred)\n",
    "    plt.figure(figsize=(8, 6))\n",
    "    plt.imshow(cm, interpolation='nearest', cmap=plt.cm.Blues)\n",
    "    plt.title('Confusion Matrix')\n",
    "    plt.colorbar()\n",
    "    tick_marks = np.arange(len(class_names))\n",
    "    plt.xticks(tick_marks, class_names, rotation=45)\n",
    "    plt.yticks(tick_marks, class_names)\n",
    "    plt.xlabel('Predicted Label')\n",
    "    plt.ylabel('True Label')\n",
    "\n",
    "    thresh = cm.max() / 2.\n",
    "    for i in range(cm.shape[0]):\n",
    "        for j in range(cm.shape[1]):\n",
    "            plt.text(j, i, format(cm[i, j], 'd'),\n",
    "                     ha=\"center\", va=\"center\",\n",
    "                     color=\"white\" if cm[i, j] > thresh else \"black\")\n",
    "    plt.tight_layout()\n",
    "    plt.show()\n",
    "\n",
    "    # ROC & PR only if available\n",
    "    try:\n",
    "        # AUC-ROC Macro\n",
    "        auc_macro = roc_auc_score(y_true, y_proba, multi_class='ovr', average='macro')\n",
    "        avg_precision_macro = average_precision_score(y_true, y_proba, average='macro')\n",
    "        print(f\"AUC-ROC (macro): {auc_macro:.4f}\")\n",
    "        print(f\"Average Precision (macro): {avg_precision_macro:.4f}\")\n",
    "    except Exception as e:\n",
    "        print(\"ROC/PR Curve Error:\", e)\n"
   ]
  },
  {
   "cell_type": "code",
   "execution_count": null,
   "id": "14872e9f",
   "metadata": {},
   "outputs": [],
   "source": [
    "feature_names = binary_features + numeric_features\n",
    "X_train_scaled_df = pd.DataFrame(X_train_scaled, columns=feature_names)\n",
    "X_test_scaled_df = pd.DataFrame(X_test_scaled, columns=feature_names)\n",
    "X_train_val_scaled_df = pd.DataFrame(X_train_val_scaled, columns=feature_names)\n",
    "\n",
    "class_names = le.classes_"
   ]
  },
  {
   "cell_type": "markdown",
   "id": "6d3155e7",
   "metadata": {},
   "source": [
    "# Logistic Regression"
   ]
  },
  {
   "cell_type": "code",
   "execution_count": null,
   "id": "4bc18596",
   "metadata": {},
   "outputs": [],
   "source": [
    "param_grid = {\n",
    "    'C': [0.01, 0.1, 1, 10, 100],\n",
    "    'penalty': ['l2', None],  \n",
    "    'fit_intercept': [True, False],\n",
    "    'class_weight': [None, 'balanced']\n",
    "}\n",
    "\n",
    "scoring = {\n",
    "    'accuracy': 'accuracy',\n",
    "    'f1_macro': 'f1_macro',\n",
    "    'precision_macro': 'precision_macro',\n",
    "    'recall_macro': 'recall_macro',\n",
    "    'neg_log_loss': 'neg_log_loss'\n",
    "}\n",
    "\n",
    "grid = GridSearchCV(\n",
    "    LogisticRegression(multi_class='multinomial', solver='lbfgs', max_iter=1000, random_state=SEED),\n",
    "    param_grid,\n",
    "    scoring=scoring,\n",
    "    refit='f1_macro', \n",
    "    cv=5,\n",
    "    verbose=1,\n",
    "    n_jobs=-1\n",
    ")\n",
    "\n",
    "\n",
    "grid.fit(X_train_val_scaled, y_train_val)\n",
    "\n",
    "print(\"Best params:\", grid.best_params_)\n",
    "print(\"Best score:\", grid.best_score_)\n"
   ]
  },
  {
   "cell_type": "code",
   "execution_count": null,
   "id": "3f3dbb80",
   "metadata": {},
   "outputs": [],
   "source": [
    "lr_model_best = grid.best_estimator_\n",
    "lr_model_best.fit(X_train_val_scaled, y_train_val)\n",
    "\n",
    "#Predict the test set\n",
    "y_pred_lr_best = lr_model_best.predict(X_test_scaled)\n",
    "y_prob_lr_best = lr_model_best.predict_proba(X_test_scaled)\n",
    "\n",
    "print(\"\\nTest Set Evaluation:\")\n",
    "evaluate_model(y_test, y_pred_lr_best, y_prob_lr_best)"
   ]
  },
  {
   "cell_type": "code",
   "execution_count": null,
   "id": "8db00e63",
   "metadata": {},
   "outputs": [],
   "source": [
    "explainer = shap.Explainer(lr_model_best, X_train_val_scaled_df)\n",
    "shap_values = explainer(X_test_scaled_df)\n",
    "\n",
    "for i, class_name in enumerate(class_names):  \n",
    "    print(f\"SHAP plot for class {class_name}:\")\n",
    "    shap.plots.beeswarm(shap_values[:,:,i], max_display=len(feature_names), show=True)"
   ]
  },
  {
   "cell_type": "markdown",
   "id": "0538f8a8",
   "metadata": {},
   "source": [
    "# Random Forest"
   ]
  },
  {
   "cell_type": "code",
   "execution_count": null,
   "id": "d0ba79a1",
   "metadata": {},
   "outputs": [],
   "source": [
    "param_grid = {\n",
    "    'n_estimators': [100, 200, 300],              \n",
    "    'max_depth': [None, 10, 20, 30],              \n",
    "    'class_weight': ['balanced', None],           \n",
    "    'bootstrap': [True, False],                   \n",
    "    'criterion': ['gini', 'entropy']              \n",
    "}\n",
    "\n",
    "\n",
    "grid_search = GridSearchCV(\n",
    "    estimator=RandomForestClassifier(random_state=SEED),\n",
    "    param_grid=param_grid,\n",
    "    scoring=scoring,\n",
    "    refit='f1_macro',    \n",
    "    cv=5,\n",
    "    n_jobs=-1,\n",
    "    verbose=2\n",
    ")\n",
    "\n",
    "grid_search.fit(X_train_val, y_train_val)\n",
    "\n",
    "print(\"Best Parameters:\", grid_search.best_params_)\n",
    "print(\"Best Score:\", grid_search.best_score_)\n"
   ]
  },
  {
   "cell_type": "code",
   "execution_count": null,
   "id": "3c25291c",
   "metadata": {},
   "outputs": [],
   "source": [
    "rf_model_best = grid_search.best_estimator_\n",
    "\n",
    "y_pred_rf_best = rf_model_best.predict(X_test)\n",
    "y_prob_rf_best = rf_model_best.predict_proba(X_test)\n",
    "evaluate_model(y_test, y_pred_rf_best, y_prob_rf_best)"
   ]
  },
  {
   "cell_type": "code",
   "execution_count": null,
   "id": "e57a00cd",
   "metadata": {},
   "outputs": [],
   "source": [
    "X_test_df = pd.DataFrame(X_test, columns=feature_names)\n",
    "X_train_df = pd.DataFrame(X_train, columns=feature_names)"
   ]
  },
  {
   "cell_type": "code",
   "execution_count": null,
   "id": "c522199d",
   "metadata": {},
   "outputs": [],
   "source": [
    "explainer= shap.TreeExplainer(rf_model_best, feature_perturbation=\"tree_path_dependent\")\n",
    "shap_values = explainer(X_test_df)\n",
    "for i, class_name in enumerate(class_names):  \n",
    "    print(f\"SHAP plot for class {class_name}:\")\n",
    "    shap.plots.beeswarm(shap_values[:,:,i], max_display=len(feature_names), show=True)"
   ]
  },
  {
   "cell_type": "markdown",
   "id": "510960ae",
   "metadata": {},
   "source": [
    "# Gradient Boosting"
   ]
  },
  {
   "cell_type": "code",
   "execution_count": null,
   "id": "eded22cc",
   "metadata": {},
   "outputs": [],
   "source": [
    "param_grid = {\n",
    "    'n_estimators': [100, 200, 300],               \n",
    "    'learning_rate': [0.01, 0.05, 0.1, 0.2],      \n",
    "    'subsample': [0.6, 0.8, 1.0],                  \n",
    "    'max_features': ['sqrt', 'log2', None]         \n",
    "}\n",
    "\n",
    "gb = GradientBoostingClassifier(random_state=42)\n",
    "\n",
    "grid_search = GridSearchCV(\n",
    "    estimator=gb,\n",
    "    param_grid=param_grid,\n",
    "    cv=5,\n",
    "    scoring=scoring,\n",
    "    refit='f1_macro',  \n",
    "    verbose=2,\n",
    "    n_jobs=-1\n",
    ")\n",
    "\n",
    "grid_search.fit(X_train_val, y_train_val)\n",
    "\n",
    "print(\"Best params:\", grid_search.best_params_)\n",
    "print(\"Best score:\", grid_search.best_score_)"
   ]
  },
  {
   "cell_type": "code",
   "execution_count": null,
   "id": "59f10894",
   "metadata": {},
   "outputs": [],
   "source": [
    "gb_model_best = grid_search.best_estimator_\n",
    "\n",
    "y_pred_gb_best = gb_model_best.predict(X_test)\n",
    "y_prob_gb_best = gb_model_best.predict_proba(X_test)\n",
    "\n",
    "evaluate_model(y_test, y_pred_gb_best, y_prob_gb_best)"
   ]
  },
  {
   "cell_type": "code",
   "execution_count": null,
   "id": "e86f1b83",
   "metadata": {},
   "outputs": [],
   "source": [
    "explainer = shap.Explainer(gb_model_best.predict_proba, X_train_df, feature_perturbation=\"interventional\")\n",
    "shap_values = explainer(X_test_df)\n",
    "for i, class_name in enumerate(class_names):  \n",
    "    print(f\"SHAP plot for class {class_name}:\")\n",
    "    shap.plots.beeswarm(shap_values[:,:,i], max_display=len(feature_names), show=True)"
   ]
  },
  {
   "cell_type": "markdown",
   "id": "59de962a",
   "metadata": {},
   "source": [
    "# XGBoost"
   ]
  },
  {
   "cell_type": "code",
   "execution_count": null,
   "id": "92d7756c",
   "metadata": {},
   "outputs": [],
   "source": [
    "param_grid = {\n",
    "    'n_estimators': [100, 200],\n",
    "    'learning_rate': [0.01, 0.05, 0.1, 0.2],\n",
    "    'subsample': [0.8, 1.0],\n",
    "    'colsample_bytree': [0.8, 1.0],\n",
    "    'gamma': [0, 1],\n",
    "\n",
    "}\n",
    "\n",
    "xgb_clf = xgb.XGBClassifier(\n",
    "    objective='multi:softprob',\n",
    "    num_class=3,  \n",
    "    random_state=42,\n",
    "    eval_metric='mlogloss',\n",
    "    use_label_encoder=False\n",
    ")\n",
    "\n",
    "grid_search = GridSearchCV(\n",
    "    estimator=xgb_clf,\n",
    "    param_grid=param_grid,\n",
    "    scoring=scoring,\n",
    "    refit='f1_macro', \n",
    "    cv=5,\n",
    "    verbose=1,\n",
    "    n_jobs=-1\n",
    ")\n",
    "\n",
    "grid_search.fit(X_train_val, y_train_val)\n",
    "\n",
    "print(\"Best params:\", grid_search.best_params_)\n",
    "print(\"Best score:\", grid_search.best_score_)\n"
   ]
  },
  {
   "cell_type": "code",
   "execution_count": null,
   "id": "0fc66d2a",
   "metadata": {},
   "outputs": [],
   "source": [
    "best_xgb_model = grid_search.best_estimator_\n",
    "\n",
    "y_pred_xgb_best = best_xgb_model.predict(X_test)\n",
    "y_prob_xgb_best = best_xgb_model.predict_proba(X_test)\n",
    "evaluate_model(y_test, y_pred_xgb_best, y_prob_xgb_best)"
   ]
  },
  {
   "cell_type": "code",
   "execution_count": null,
   "id": "86d1ec48",
   "metadata": {},
   "outputs": [],
   "source": [
    "explainer= shap.TreeExplainer(best_xgb_model, feature_perturbation=\"tree_path_dependent\")\n",
    "shap_values = explainer(X_test_df)\n",
    "\n",
    "for i, class_name in enumerate(class_names): \n",
    "    print(f\"SHAP plot for class {class_name}:\")    \n",
    "    shap.plots.beeswarm(shap_values[:,:,i], max_display=len(feature_names), show=True)"
   ]
  },
  {
   "cell_type": "markdown",
   "id": "cdaf6101",
   "metadata": {},
   "source": [
    "# Light Gradient Boosting Machine"
   ]
  },
  {
   "cell_type": "code",
   "execution_count": null,
   "id": "85f4c75c",
   "metadata": {},
   "outputs": [],
   "source": [
    "param_grid = {\n",
    "    'num_leaves': [31, 63],\n",
    "    'max_depth': [-1, 10],\n",
    "    'learning_rate': [0.01, 0.1],\n",
    "    'min_child_samples': [1, 10],\n",
    "    'min_split_gain': [0.0, 0.1],\n",
    "    'subsample': [0.8, 1.0],\n",
    "    'colsample_bytree': [0.8, 1.0],\n",
    "}\n",
    "\n",
    "scoring = {\n",
    "    'accuracy': 'accuracy',\n",
    "    'f1_macro': 'f1_macro',\n",
    "    'precision_macro': 'precision_macro',\n",
    "    'recall_macro': 'recall_macro',\n",
    "    'neg_log_loss': 'neg_log_loss'\n",
    "}\n",
    "\n",
    "lgbm = LGBMClassifier(\n",
    "    objective='multiclass',\n",
    "    num_class=4,\n",
    "    is_unbalance=True,\n",
    "    random_state=42,\n",
    "    force_col_wise=True\n",
    ")\n",
    "\n",
    "grid = GridSearchCV(lgbm, param_grid, cv=3, scoring=scoring,refit=\"f1_macro\" , n_jobs=-1, verbose=1)\n",
    "grid.fit(X_train_val, y_train_val)\n",
    "\n",
    "print(\"Best params:\", grid.best_params_)\n",
    "print(\"Best score:\", grid.best_score_)\n"
   ]
  },
  {
   "cell_type": "code",
   "execution_count": null,
   "id": "6bcff353",
   "metadata": {},
   "outputs": [],
   "source": [
    "best_lgbm_model = grid.best_estimator_\n",
    "\n",
    "y_pred_lgbm_best = best_lgbm_model.predict(X_test)\n",
    "y_prob_lgbm_best = best_lgbm_model.predict_proba(X_test)\n",
    "evaluate_model(y_test, y_pred_lgbm_best, y_prob_lgbm_best)"
   ]
  },
  {
   "cell_type": "code",
   "execution_count": null,
   "id": "9998f773",
   "metadata": {},
   "outputs": [],
   "source": [
    "explainer= shap.TreeExplainer(best_lgbm_model, feature_perturbation=\"tree_path_dependent\")\n",
    "shap_values = explainer(X_test_df)\n",
    "\n",
    "for i, class_name in enumerate(class_names):  \n",
    "    print(f\"SHAP plot for class {class_name}:\")\n",
    "    shap.plots.beeswarm(shap_values[:,:,i], max_display=len(feature_names), show=True)"
   ]
  },
  {
   "cell_type": "markdown",
   "id": "7a54a70a",
   "metadata": {},
   "source": [
    "# SVC"
   ]
  },
  {
   "cell_type": "code",
   "execution_count": null,
   "id": "d6605840",
   "metadata": {},
   "outputs": [],
   "source": [
    "param_grid = {\n",
    "    'C': [0.1, 1, 10, 100],\n",
    "    'gamma': ['scale', 'auto', 0.01, 0.1, 1],\n",
    "    'kernel': ['rbf', 'linear', 'sigmoid'],\n",
    "    'class_weight': ['balanced', None],\n",
    "    'shrinking': [True, False] \n",
    "}\n",
    "\n",
    "\n",
    "svc = SVC(probability=True, random_state=42)\n",
    "\n",
    "grid = GridSearchCV(svc, param_grid, cv=3, scoring=scoring,refit=\"f1_macro\" , n_jobs=-1, verbose=1)\n",
    "grid.fit(X_train_val_scaled, y_train_val)\n",
    "\n",
    "print(\"Best params:\", grid.best_params_)\n",
    "print(\"Best score:\", grid.best_score_)\n"
   ]
  },
  {
   "cell_type": "code",
   "execution_count": null,
   "id": "b633f905",
   "metadata": {},
   "outputs": [],
   "source": [
    "best_svc_model = grid.best_estimator_\n",
    "\n",
    "y_pred_svc_best = best_svc_model.predict(X_test)\n",
    "y_prob_svc_best = best_svc_model.predict_proba(X_test)\n",
    "evaluate_model(y_test, y_pred_svc_best, y_prob_svc_best)"
   ]
  },
  {
   "cell_type": "code",
   "execution_count": null,
   "id": "4cf284ed",
   "metadata": {},
   "outputs": [],
   "source": [
    "explainer = shap.KernelExplainer(best_svc_model.predict_proba, shap.kmeans(X_train_val_scaled_df, 10))\n",
    "shap_values = explainer.shap_values(X_test_scaled_df, nsamples=100)\n",
    "\n",
    "for i, class_name in enumerate(class_names):  \n",
    "    explanation = shap.Explanation(\n",
    "    values=shap_values[:, :, i],  \n",
    "    data=X_test_scaled_df,\n",
    "    feature_names=feature_names\n",
    ")\n",
    "    print(f\"SHAP plot for class {class_name}:\")\n",
    "    shap.plots.beeswarm(explanation, max_display=len(feature_names), show=True)"
   ]
  },
  {
   "cell_type": "markdown",
   "id": "93257e5c",
   "metadata": {},
   "source": [
    "# K Neighbors"
   ]
  },
  {
   "cell_type": "code",
   "execution_count": null,
   "id": "0294614d",
   "metadata": {},
   "outputs": [],
   "source": [
    "param_grid = {\n",
    "    'n_neighbors': [10, 12, 15, 17, 20],\n",
    "    'weights': ['uniform', 'distance'],\n",
    "    'p': [1, 2]  # 1=Manhattan, 2=Euclidean\n",
    "    \n",
    "}\n",
    "\n",
    "knn = KNeighborsClassifier(algorithm='auto')\n",
    "\n",
    "grid = GridSearchCV(knn, param_grid, cv=3, scoring=scoring, refit=\"f1_macro\" , n_jobs=-1, verbose=1)\n",
    "grid.fit(X_train_val_scaled, y_train_val)\n",
    "\n",
    "print(\"Best params:\", grid.best_params_)\n",
    "print(\"Best score:\", grid.best_score_)"
   ]
  },
  {
   "cell_type": "code",
   "execution_count": null,
   "id": "ea94d521",
   "metadata": {},
   "outputs": [],
   "source": [
    "best_knn_model = grid.best_estimator_\n",
    "\n",
    "y_pred_knn_best = best_knn_model.predict(X_test)\n",
    "y_prob_knn_best = best_knn_model.predict_proba(X_test)\n",
    "evaluate_model(y_test, y_pred_knn_best, y_prob_knn_best)"
   ]
  },
  {
   "cell_type": "code",
   "execution_count": null,
   "id": "be29fca4",
   "metadata": {},
   "outputs": [],
   "source": [
    "background = shap.utils.sample(X_train_val_scaled_df, 50, random_state=42)  \n",
    "explainer = shap.KernelExplainer(best_knn_model.predict_proba, background)\n",
    "X_subset = X_test_scaled_df[:50]  \n",
    "\n",
    "shap_values = explainer.shap_values(X_subset)\n",
    "\n",
    "\n",
    "for i, class_name in enumerate(class_names):  \n",
    "    explanation = shap.Explanation(\n",
    "    values=shap_values[:, :, i],  \n",
    "    data=X_subset,\n",
    "    feature_names=feature_names\n",
    ")\n",
    "    print(f\"SHAP plot for class {class_name}:\")\n",
    "    shap.plots.beeswarm(explanation, max_display=len(feature_names), show=True)"
   ]
  },
  {
   "cell_type": "markdown",
   "id": "40bfe52d",
   "metadata": {},
   "source": [
    "# Ridge Classifier"
   ]
  },
  {
   "cell_type": "code",
   "execution_count": null,
   "id": "9b8b7c21",
   "metadata": {},
   "outputs": [],
   "source": [
    "param_grid = {\n",
    "    'alpha': [0.1, 1.0, 10, 100],\n",
    "    'class_weight': [None, 'balanced'],\n",
    "    'solver': ['auto','sag', 'lsqr', 'sparse_cg']\n",
    "    \n",
    "}\n",
    "scoring_rc = {\n",
    "    'accuracy': 'accuracy',\n",
    "    'precision_macro': 'precision_macro',\n",
    "    'recall_macro': 'recall_macro',\n",
    "    'f1_macro': 'f1_macro'\n",
    "}\n",
    "\n",
    "rc = RidgeClassifier(random_state=42)\n",
    "\n",
    "grid = GridSearchCV(rc, param_grid, cv=3, scoring=scoring_rc, refit=\"f1_macro\" , n_jobs=-1, verbose=1)\n",
    "grid.fit(X_train_val_scaled, y_train_val)\n",
    "\n",
    "print(\"Best params:\", grid.best_params_)\n",
    "print(\"Best score:\", grid.best_score_)\n"
   ]
  },
  {
   "cell_type": "code",
   "execution_count": null,
   "id": "2b68c5cf",
   "metadata": {},
   "outputs": [],
   "source": [
    "best_rc_model = grid.best_estimator_\n",
    "\n",
    "y_pred_rc_best = best_rc_model.predict(X_test_scaled)\n",
    "y_prob_rc_best = best_rc_model.decision_function(X_test_scaled)\n",
    "evaluate_model(y_test, y_pred_rc_best, y_prob_rc_best)"
   ]
  },
  {
   "cell_type": "code",
   "execution_count": null,
   "id": "20c5895e",
   "metadata": {},
   "outputs": [],
   "source": [
    "masker = shap.maskers.Independent(X_train_val_scaled_df)\n",
    "explainer = shap.LinearExplainer(best_rc_model, masker)\n",
    "shap_values = explainer.shap_values(X_test_scaled_df)\n",
    "\n",
    "for i, class_name in enumerate(class_names):  \n",
    "    explanation = shap.Explanation(\n",
    "    values=shap_values[:,:, i],  \n",
    "    data=X_test_scaled_df,\n",
    "    feature_names=feature_names\n",
    ")\n",
    "    print(f\"SHAP plot for class {class_name}:\")\n",
    "    shap.plots.beeswarm(explanation, max_display=len(feature_names), show=True)"
   ]
  },
  {
   "cell_type": "markdown",
   "id": "9906f4fb",
   "metadata": {},
   "source": [
    "# Naive Bayes"
   ]
  },
  {
   "cell_type": "code",
   "execution_count": null,
   "id": "bc115d77",
   "metadata": {},
   "outputs": [],
   "source": [
    "nb_model = GaussianNB()\n",
    "nb_model.fit(X_train_val_scaled, y_train_val)  \n",
    "\n",
    "y_pred_nb = nb_model.predict(X_test_scaled)\n",
    "y_prob_nb = nb_model.predict_proba(X_test_scaled)\n",
    "\n",
    "print(\"\\nTest Set Evaluation:\")\n",
    "evaluate_model(y_test, y_pred_nb, y_prob_nb)\n"
   ]
  },
  {
   "cell_type": "code",
   "execution_count": null,
   "id": "8a251a50",
   "metadata": {},
   "outputs": [],
   "source": [
    "background = shap.kmeans(X_train_val_scaled_df, 10)\n",
    "explainer = shap.KernelExplainer(nb_model.predict_proba, background)\n",
    "shap_values = explainer.shap_values(X_test_scaled_df, nsamples=100)\n",
    "\n",
    "for i, class_name in enumerate(class_names):  \n",
    "    explanation = shap.Explanation(\n",
    "    values=shap_values[:, :, i],  \n",
    "    data=X_test_scaled_df,\n",
    "    feature_names=feature_names\n",
    ")\n",
    "    print(f\"SHAP plot for class {class_name}:\")\n",
    "    shap.plots.beeswarm(explanation, max_display=len(feature_names))"
   ]
  },
  {
   "cell_type": "markdown",
   "id": "6bd87bbd",
   "metadata": {},
   "source": [
    "# Decison Tree Classifier"
   ]
  },
  {
   "cell_type": "code",
   "execution_count": null,
   "id": "867f9f3a",
   "metadata": {},
   "outputs": [],
   "source": [
    "param_grid = {\n",
    "    'criterion': ['gini', 'entropy'],\n",
    "    'min_samples_split': [2, 5, 10],\n",
    "    'min_samples_leaf': [1, 2, 4],\n",
    "    'class_weight': ['balanced', None],\n",
    "    'splitter': ['best', 'random']\n",
    "}\n",
    "\n",
    "tree = DecisionTreeClassifier(random_state=42)\n",
    "\n",
    "grid = GridSearchCV(\n",
    "    estimator=tree,\n",
    "    param_grid=param_grid,\n",
    "    scoring= scoring, \n",
    "    refit=\"f1_macro\", \n",
    "    cv=3,\n",
    "    verbose=1,\n",
    "    n_jobs=-1\n",
    ")\n",
    "\n",
    "grid.fit(X_train_val, y_train_val)\n",
    "\n",
    "print(\"Best parameters:\", grid.best_params_)\n",
    "print(\"Best score:\", grid.best_score_)"
   ]
  },
  {
   "cell_type": "code",
   "execution_count": null,
   "id": "574a3bdc",
   "metadata": {},
   "outputs": [],
   "source": [
    "best_dt_model = grid.best_estimator_\n",
    "\n",
    "y_pred_dt_best = best_dt_model.predict(X_test)\n",
    "y_prob_dt_best = best_dt_model.predict_proba(X_test)\n",
    "evaluate_model(y_test, y_pred_dt_best, y_prob_dt_best)"
   ]
  },
  {
   "cell_type": "code",
   "execution_count": null,
   "id": "f4815028",
   "metadata": {},
   "outputs": [],
   "source": [
    "explainer = shap.TreeExplainer(best_dt_model)\n",
    "shap_values = explainer.shap_values(X_test)\n",
    "\n",
    "for i, class_name in enumerate(class_names):  \n",
    "    print(f\"SHAP plot for class {class_name}:\")\n",
    "    shap.summary_plot(shap_values[:,:,i], X_test, feature_names=X_test_df.columns)"
   ]
  }
 ],
 "metadata": {
  "kernelspec": {
   "display_name": "gpu",
   "language": "python",
   "name": "python3"
  },
  "language_info": {
   "codemirror_mode": {
    "name": "ipython",
    "version": 3
   },
   "file_extension": ".py",
   "mimetype": "text/x-python",
   "name": "python",
   "nbconvert_exporter": "python",
   "pygments_lexer": "ipython3",
   "version": "3.11.11"
  }
 },
 "nbformat": 4,
 "nbformat_minor": 5
}
